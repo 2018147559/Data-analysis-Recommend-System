{
  "nbformat": 4,
  "nbformat_minor": 0,
  "metadata": {
    "colab": {
      "name": "Untitled0.ipynb",
      "provenance": [],
      "collapsed_sections": [],
      "mount_file_id": "1EMXRejaIuloxBuC99B5S5j_z9tUXPkSl",
      "authorship_tag": "ABX9TyNNq5c2Xg0Zs5joMk2/KOPD",
      "include_colab_link": true
    },
    "kernelspec": {
      "name": "python3",
      "display_name": "Python 3"
    },
    "language_info": {
      "name": "python"
    }
  },
  "cells": [
    {
      "cell_type": "markdown",
      "metadata": {
        "id": "view-in-github",
        "colab_type": "text"
      },
      "source": [
        "<a href=\"https://colab.research.google.com/github/2018147559/Data-analysis-Recommend-System/blob/main/Dart_%EC%A0%84%EC%B2%98%EB%A6%AC.ipynb\" target=\"_parent\"><img src=\"https://colab.research.google.com/assets/colab-badge.svg\" alt=\"Open In Colab\"/></a>"
      ]
    },
    {
      "cell_type": "code",
      "metadata": {
        "id": "x9TJk50TwO34"
      },
      "source": [
        "from google.colab import drive\n",
        "drive.mount('/content/drive')"
      ],
      "execution_count": null,
      "outputs": []
    },
    {
      "cell_type": "code",
      "metadata": {
        "id": "ZoydA93OweUd"
      },
      "source": [
        "cd  /content/drive/Shareddrives/DSL_2021-2_추천시스템/data/주식 trade"
      ],
      "execution_count": null,
      "outputs": []
    },
    {
      "cell_type": "code",
      "metadata": {
        "id": "6LbYipX4w0cQ"
      },
      "source": [
        "import numpy as np\n",
        "import pandas as pd\n",
        "import matplotlib.pyplot as plt\n",
        "import seaborn as sns"
      ],
      "execution_count": null,
      "outputs": []
    },
    {
      "cell_type": "code",
      "metadata": {
        "id": "xUD9H93ySteZ"
      },
      "source": [
        "#!pip install dart-fss"
      ],
      "execution_count": null,
      "outputs": []
    },
    {
      "cell_type": "code",
      "metadata": {
        "id": "yr0KVxSuw2-7"
      },
      "source": [
        "import dart_fss as dart\n",
        "api_key=\"991fee6e5dea7040f6c712e57fe3d198b9fd8608\"# api key 변수 설정"
      ],
      "execution_count": null,
      "outputs": []
    },
    {
      "cell_type": "code",
      "metadata": {
        "colab": {
          "base_uri": "https://localhost:8080/",
          "height": 70,
          "referenced_widgets": [
            "fd33520682954d36a83be813bdbab6a0",
            "537e4cb43dd0497793d332f8de4cdebb",
            "9c4f6535299d4009813a394f31308b0a"
          ]
        },
        "id": "eM45IG6FxJGL",
        "outputId": "ea2b7205-0426-4a84-85ac-73d3754cfed5"
      },
      "source": [
        "dart.set_api_key(api_key = api_key)\n",
        "# DART 에 공시된 회사 리스트 불러오기 \n",
        "corp_list = dart.get_corp_list() \n",
        "\n",
        "# 삼성전자 검색 \n",
        "samsung = corp_list.find_by_corp_name('삼성전자', exactly=True)[0] \n",
        "# 2021년부터 연간 연결재무제표 불러오기 \n",
        "fs = samsung.extract_fs(bgn_de='20200101', end_de = '20200331') \n",
        "fs[0]"
      ],
      "execution_count": null,
      "outputs": [
        {
          "data": {
            "application/vnd.jupyter.widget-view+json": {
              "model_id": "fd33520682954d36a83be813bdbab6a0",
              "version_major": 2,
              "version_minor": 0
            },
            "text/plain": [
              "Output()"
            ]
          },
          "metadata": {},
          "output_type": "display_data"
        },
        {
          "data": {
            "application/vnd.jupyter.widget-view+json": {
              "model_id": "537e4cb43dd0497793d332f8de4cdebb",
              "version_major": 2,
              "version_minor": 0
            },
            "text/plain": [
              "Output()"
            ]
          },
          "metadata": {},
          "output_type": "display_data"
        },
        {
          "data": {
            "application/vnd.jupyter.widget-view+json": {
              "model_id": "9c4f6535299d4009813a394f31308b0a",
              "version_major": 2,
              "version_minor": 0
            },
            "text/plain": [
              "Output()"
            ]
          },
          "metadata": {},
          "output_type": "display_data"
        }
      ]
    },
    {
      "cell_type": "markdown",
      "metadata": {
        "id": "M9pYKUEOwh5-"
      },
      "source": [
        "# 거래 데이터 합치기"
      ]
    },
    {
      "cell_type": "code",
      "metadata": {
        "id": "3ovQM4Yt0NGi"
      },
      "source": [
        "cus_info = pd.read_csv(\"2_cus_info.csv\")\n",
        "act_info = pd.read_csv(\"2_act_info.csv\")\n",
        "iem_info = pd.read_csv(\"2_iem_info.csv\")\n",
        "trd_kr = pd.read_csv(\"2_trd_kr.csv\")\n",
        "cus_act_info = pd.merge(cus_info, act_info, left_on = 'cus_id', right_on = 'cus_id', how = 'left')\n",
        "cus_act_trd = pd.merge(cus_act_info, trd_kr, left_on = 'act_id', right_on ='act_id', how = 'inner')\n",
        "df = pd.merge(cus_act_trd, iem_info, left_on = 'iem_cd', right_on = 'iem_cd', how = 'inner')"
      ],
      "execution_count": null,
      "outputs": []
    },
    {
      "cell_type": "code",
      "metadata": {
        "id": "uj4h8YA20SCI"
      },
      "source": [
        "df.columns"
      ],
      "execution_count": null,
      "outputs": []
    },
    {
      "cell_type": "markdown",
      "metadata": {
        "id": "6YeOKXA80kfG"
      },
      "source": [
        "## 날짜 데이터 전처리"
      ]
    },
    {
      "cell_type": "code",
      "metadata": {
        "id": "UWP3r7wy0U3D"
      },
      "source": [
        "df['datetime'] = pd.to_datetime(df['orr_dt'].astype('str'))\n",
        "df['orr_year'] = df['datetime'].dt.year.astype('str')\n",
        "df['orr_month'] = df['datetime'].dt.month.astype('str')\n",
        "df['orr_y_m'] = df['orr_year'] + \"-\" + df['orr_month']\n",
        "df[['orr_dt','orr_y_m']].head()"
      ],
      "execution_count": null,
      "outputs": []
    },
    {
      "cell_type": "code",
      "metadata": {
        "id": "UbMaIx3U0sIy"
      },
      "source": [
        "del df['orr_year']\n",
        "del df['orr_month']\n",
        "del df['datetime']"
      ],
      "execution_count": null,
      "outputs": []
    },
    {
      "cell_type": "markdown",
      "metadata": {
        "id": "AO-CNz384Y0i"
      },
      "source": [
        "### 함수를 편하게 만들기 위해서 df에 열을 추가하겠습니당.\n",
        "* 날짜 데이터를 바탕으로 그 거래가 발생했을 때 바탕이 됐을 손익계산서의 발행 날짜\n",
        "* 기준은 3월로 할게요. 예를 들어서 2020년 3월 이후에 한 거래는 2020년의 재무제표를 참고했을 것이라고 가정하겠습니다. 만약 2019년 10월에 거래했다면 2018년의 재무제표를 참고했을 것이라고 가정.\n",
        "* 이후에 반기보고서나 분기보고서도 참고할 수 있게 된다면 그 때 추가하겠습니당.\n",
        "\n",
        "=> 한계점: 1월부터 3월에는 재무제표가 새로 나와서 그것이 사용자의 선택/주가에 영향이 클 거야.. 근데 그거를 고려 못 했어ㅠㅠ 일단 해보고 다르게 고칠 방법이 생각나면 고칠게요"
      ]
    },
    {
      "cell_type": "code",
      "metadata": {
        "id": "bbUDImnf4QJv"
      },
      "source": [
        "map(int(),df['orr_y_m'])\n",
        "df['orr_y_m'] = pd.to_datetime(df['orr_y_m'])\n",
        "df['based_profit'] = np.where(df['orr_y_m']<='2019-03',2018,2019)\n",
        "df[['based_profit','orr_y_m']].head(5)"
      ],
      "execution_count": null,
      "outputs": []
    },
    {
      "cell_type": "code",
      "metadata": {
        "id": "8Vifaw6X4bsK"
      },
      "source": [
        "df.groupby(['iem_krl_nm','based_profit']).head()"
      ],
      "execution_count": null,
      "outputs": []
    },
    {
      "cell_type": "markdown",
      "metadata": {
        "id": "hCL8JukT1aVz"
      },
      "source": [
        "# 다트에서 특정 표만 가져오기"
      ]
    },
    {
      "cell_type": "code",
      "metadata": {
        "id": "0eBev2_A1MDA"
      },
      "source": [
        "dart.set_api_key(api_key = api_key)\n",
        "# DART 에 공시된 회사 리스트 불러오기 \n",
        "corp_list = dart.get_corp_list() \n",
        "\n",
        "# 삼성전자 검색 \n",
        "samsung = corp_list.find_by_corp_name('삼성전자', exactly=True)[0] \n",
        "# 2021년부터 연간 연결재무제표 불러오기 \n",
        "fs = samsung.extract_fs(bgn_de='20210101') \n",
        "fs[0]"
      ],
      "execution_count": null,
      "outputs": []
    },
    {
      "cell_type": "code",
      "metadata": {
        "id": "n6i2pBBv11g4"
      },
      "source": [
        "samsung = corp_list.find_by_corp_name('삼성전자', exactly=True)[0] \n",
        "# 2021년부터 연간 연결재무제표 불러오기 \n",
        "fs = samsung.extract_fs(bgn_de='20190101', end_de = '20190401', separate = True, report_tp = 'annual')\n",
        "df_fs = fs['is']\n",
        "labels_fs = fs.labels['is']\n",
        "df_fs"
      ],
      "execution_count": null,
      "outputs": []
    },
    {
      "cell_type": "markdown",
      "metadata": {
        "id": "cDw_2bqv5ZiG"
      },
      "source": [
        "# 함수 만들기"
      ]
    },
    {
      "cell_type": "code",
      "metadata": {
        "id": "1ESVRibm5nJr"
      },
      "source": [
        "df['수익'] = 1\n",
        "df['영업이익'] = 2\n",
        "df['당기순이익'] = 3"
      ],
      "execution_count": null,
      "outputs": []
    },
    {
      "cell_type": "code",
      "metadata": {
        "id": "K-8xjaTQ6lOS"
      },
      "source": [
        "df['iem_krl_nm'][0]"
      ],
      "execution_count": null,
      "outputs": []
    },
    {
      "cell_type": "code",
      "metadata": {
        "id": "rijTajty7fW4"
      },
      "source": [
        "corp_list[3].corp_name"
      ],
      "execution_count": null,
      "outputs": []
    },
    {
      "cell_type": "code",
      "metadata": {
        "id": "C0Hj07DP6E3c"
      },
      "source": [
        "df.columns"
      ],
      "execution_count": null,
      "outputs": []
    },
    {
      "cell_type": "code",
      "metadata": {
        "id": "JagcGkmn9nCy"
      },
      "source": [
        "def get_dart(company_name, year, corp_list) :\n",
        "    api_key=\"991fee6e5dea7040f6c712e57fe3d198b9fd8608\"# api key 변수 설정\n",
        "    dart.set_api_key(api_key = api_key)\n",
        "    company = corp_list.find_by_corp_name(company_name, exactly=True)\n",
        "    company = company[0]\n",
        "    #어쩌피 20200101로 해도 2019 정보가 다 나오니까?!\n",
        "    fs = company.extract_fs(bgn_de='20200101', end_de = '20200331', separate = True, report_tp = 'annual')\n",
        "    df_fs = fs['is']\n",
        "    \n",
        "    # if year == 2018 :\n",
        "    #     fs = company.extract_fs(bgn_de='20190101', end_de = '20190331', separate = True, report_tp = 'annual')\n",
        "    #     df_fs = fs['is']\n",
        "    # elif year == 2019 :\n",
        "    #     fs = company.extract_fs(bgn_de='20200101', end_de = '20200331', separate = True, report_tp = 'annual')\n",
        "    #     df_fs = fs['is']\n",
        "\n",
        "    return df_fs\n"
      ],
      "execution_count": null,
      "outputs": []
    },
    {
      "cell_type": "code",
      "metadata": {
        "id": "renDPdjsMh3a"
      },
      "source": [
        "def fill_duplicated(df,df_fs, visited):\n",
        "    for i in range(len(df)):\n",
        "        if df.iloc[i, 20] == 2018:\n",
        "            if df_fs is None:\n",
        "                pass\n",
        "            else:\n",
        "                visited[i] = True\n",
        "                df.iloc[i, 21] = df_fs[0,7]\n",
        "                df.iloc[i, 22] = df_fs[4,7]\n",
        "                df.iloc[i, 23] = df_fs[12,7]\n",
        "        elif df.iloc[i,20] == 2019:\n",
        "            if df_fs is None:\n",
        "                pass\n",
        "            else:\n",
        "                visited[i] = True\n",
        "                df.iloc[i, 21] = df_fs[0,6]\n",
        "                df.iloc[i, 22] = df_fs[4,6]\n",
        "                df.iloc[i, 23] = df_fs[12,6]"
      ],
      "execution_count": null,
      "outputs": []
    },
    {
      "cell_type": "code",
      "metadata": {
        "id": "V25SRoxG4O4L"
      },
      "source": [
        "def fill_profit(df):\n",
        "    api_key=\"991fee6e5dea7040f6c712e57fe3d198b9fd8608\"# api key 변수 설정\n",
        "    dart.set_api_key(api_key = api_key)\n",
        "  # DART 에 공시된 회사 리스트 불러오기 \n",
        "    corp_list = dart.get_corp_list()\n",
        "    #한번이라도 채우면 visit 된거니까 다시는 방문 안되도록 체크할 수 있게 visited라는 false로 df의 length만큼 있는 list 생성\n",
        "    visited = [False for i in range(len(df))]\n",
        "    for i in range(len(df)):\n",
        "        # 방문했으면 다시 들릴필요 없음 => pass\n",
        "        if(visited[i]) continue\n",
        "        df_fs = get_dart(df.iloc[i,18].strip() , df.iloc[i, 20], corp_list)\n",
        "        fill_duplicated(df, df_fs, visited)\n",
        "        \n",
        "        # if df.iloc[i, 20] == 2018:\n",
        "        #     if df_fs is None:\n",
        "        #         pass\n",
        "        #     else:\n",
        "        #         visited[i] = True\n",
        "        #         df.iloc[i, 21] = df_fs[0,7]\n",
        "        #         df.iloc[i, 22] = df_fs[4,7]\n",
        "        #         df.iloc[i, 23] = df_fs[12,7]\n",
        "        # elif df.iloc[i,20] == 2019:\n",
        "        #     if df_fs is None:\n",
        "        #         pass\n",
        "        #     else:\n",
        "        #         visited[i] = True\n",
        "        #         df.iloc[i, 21] = df_fs[0,6]\n",
        "        #         df.iloc[i, 22] = df_fs[4,6]\n",
        "        #         df.iloc[i, 23] = df_fs[12,6]"
      ],
      "execution_count": null,
      "outputs": []
    },
    {
      "cell_type": "code",
      "metadata": {
        "id": "ZsBdms8oCKhS"
      },
      "source": [
        "ss = df.iloc[0,18].strip() "
      ],
      "execution_count": null,
      "outputs": []
    },
    {
      "cell_type": "code",
      "metadata": {
        "id": "ZiS79jK0Azw-"
      },
      "source": [
        "ss == '네이처셀'                                                    "
      ],
      "execution_count": null,
      "outputs": []
    },
    {
      "cell_type": "code",
      "metadata": {
        "id": "gT5VNyse8-SQ"
      },
      "source": [
        "fill_profit(df)"
      ],
      "execution_count": null,
      "outputs": []
    }
  ]
}